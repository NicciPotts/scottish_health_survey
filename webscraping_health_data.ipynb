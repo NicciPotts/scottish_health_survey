{
 "cells": [
  {
   "cell_type": "markdown",
   "id": "8613425c",
   "metadata": {},
   "source": [
    "# Web-scraping Scottish Health Survey functions"
   ]
  },
  {
   "cell_type": "code",
   "execution_count": null,
   "id": "03ee8561",
   "metadata": {},
   "outputs": [],
   "source": [
    "import os\n",
    "import requests\n",
    "from bs4 import BeautifulSoup\n",
    "from urllib.parse import urljoin\n",
    "import re"
   ]
  },
  {
   "cell_type": "code",
   "execution_count": null,
   "id": "775e3d7a",
   "metadata": {},
   "outputs": [],
   "source": [
    "def sanitize_filename(filename):\n",
    "    \"\"\"\n",
    "    Remove characters that are not allowed in file names.\n",
    "\n",
    "    Args:\n",
    "        filename (str): The original filename.\n",
    "\n",
    "    Returns:\n",
    "        str: The sanitized filename without invalid characters.\n",
    "    \"\"\"\n",
    "    return re.sub(r'[^\\w\\-_. ]', '', filename)"
   ]
  },
  {
   "cell_type": "code",
   "execution_count": null,
   "id": "048cdc6f",
   "metadata": {},
   "outputs": [],
   "source": [
    "def scrape_health_survey_data(year):\n",
    "    \"\"\"\n",
    "    Scrape health survey data for a specific year.\n",
    "\n",
    "    Args:\n",
    "        year (int): The year for which to scrape data.\n",
    "\n",
    "    Returns:\n",
    "        None. Downloads Excel files and saves them in a folder with the year as the name.\n",
    "    \"\"\"\n",
    "    base_url = f\"https://www.gov.scot/publications/scottish-health-survey-{year}-supplementary-tables/\"\n",
    "    \n",
    "    response = requests.get(base_url)\n",
    "    if response.status_code == 404:\n",
    "        print(f\"No data available for {year}. Skipping...\")\n",
    "        return\n",
    "    \n",
    "    response.raise_for_status()  # Check for any HTTP errors\n",
    "    soup = BeautifulSoup(response.content, \"html.parser\")\n",
    "    excel_links = []\n",
    "\n",
    "    # Find all the links on the page and filter for Excel files\n",
    "    for link in soup.find_all(\"a\", href=True):\n",
    "        href = link[\"href\"]\n",
    "        # Convert relative URLs to absolute URLs\n",
    "        absolute_url = urljoin(base_url, href)\n",
    "        if absolute_url.endswith(\".xls\") or absolute_url.endswith(\".xlsx\"):\n",
    "            excel_links.append((absolute_url, link.text.strip()))\n",
    "\n",
    "    # Create a folder with the year as the name\n",
    "    folder_name = str(year)\n",
    "    if not os.path.exists(folder_name):\n",
    "        os.makedirs(folder_name)\n",
    "\n",
    "    # Download the Excel files with link names as file names in the folder\n",
    "    for idx, (link_url, link_name) in enumerate(excel_links, start=1):\n",
    "        if not link_name:\n",
    "            print(f\"Skipping download for {year} - File {idx} - Empty link name.\")\n",
    "            continue\n",
    "        \n",
    "        file_name = os.path.join(folder_name, sanitize_filename(link_name) + \".xls\")\n",
    "        if not file_name:\n",
    "            print(f\"Skipping download for {year} - File {idx} - Invalid link name: {link_name}\")\n",
    "            continue\n",
    "\n",
    "        response = requests.get(link_url)\n",
    "        with open(file_name, \"wb\") as file:\n",
    "            file.write(response.content)\n",
    "            print(f\"Downloaded {file_name} for {year}.\")"
   ]
  },
  {
   "cell_type": "code",
   "execution_count": null,
   "id": "a7630a85",
   "metadata": {},
   "outputs": [],
   "source": [
    "def scrape_health_survey_data_for_years(start_year, end_year):\n",
    "    \"\"\"\n",
    "    Scrape health survey data for multiple years.\n",
    "\n",
    "    Args:\n",
    "        start_year (int): The starting year for scraping data.\n",
    "        end_year (int): The ending year for scraping data.\n",
    "\n",
    "    Returns:\n",
    "        None. Downloads Excel files and saves them in folders with the corresponding year as the name.\n",
    "    \"\"\"\n",
    "    for year in range(start_year, end_year + 1):\n",
    "        scrape_health_survey_data(year)"
   ]
  },
  {
   "cell_type": "code",
   "execution_count": null,
   "id": "7bb397ec",
   "metadata": {},
   "outputs": [],
   "source": [
    "# Example usage:\n",
    "scrape_health_survey_data_for_years(2011, 2022)"
   ]
  }
 ],
 "metadata": {
  "kernelspec": {
   "display_name": "Python 3 (ipykernel)",
   "language": "python",
   "name": "python3"
  },
  "language_info": {
   "codemirror_mode": {
    "name": "ipython",
    "version": 3
   },
   "file_extension": ".py",
   "mimetype": "text/x-python",
   "name": "python",
   "nbconvert_exporter": "python",
   "pygments_lexer": "ipython3",
   "version": "3.9.7"
  }
 },
 "nbformat": 4,
 "nbformat_minor": 5
}
